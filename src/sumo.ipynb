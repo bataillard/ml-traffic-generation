{
 "cells": [
  {
   "cell_type": "code",
   "execution_count": 138,
   "id": "bcc601c6-4013-478d-a9e4-5d6ff1d68027",
   "metadata": {},
   "outputs": [],
   "source": [
    "from xml.dom import minidom\n",
    "import os \n",
    "import datetime\n",
    "\n",
    "import numpy as np\n",
    "import pandas as pd"
   ]
  },
  {
   "cell_type": "markdown",
   "id": "3b090194-02a5-4265-97e4-c5b8a3acc4b0",
   "metadata": {},
   "source": [
    "## A few words to use SUMO"
   ]
  },
  {
   "cell_type": "markdown",
   "id": "eea036d7-1a2b-40b2-81f0-4f7bee6c39c8",
   "metadata": {},
   "source": [
    "To install SUMO : https://sumo.dlr.de/docs/Installing/index.html#macos\n",
    "\n",
    "A Hello SUMO tutorial that is enough to understand how to set up the simulation : https://sumo.dlr.de/docs/Tutorials/Hello_SUMO.html\n",
    "\n",
    "To simulate urban mobility, we have to define some xml files :\n",
    "- xx.nod.xml, nodes are junctions that have locations (x,y) coordinates, describing distance in meters to origin.\n",
    "- xx.edg.xml, edges connect nodes and have a direction (from node 1 to 2 for ex.)\n",
    "From these 2 files, a xx.net.xml is generated to create road network.\n",
    "- xx.rou.xml, we define 'vType' that have basic properties such as length, acceleration, maximum speed and id. Then from these vType we define 'vehicle' its depart time and its route.\n",
    "\n",
    "We put together xx.net.xml and xx.rou.xml into a configuration file xx.sumocfg\n",
    "\n",
    "To start the simulation : \n",
    "\n",
    "- Open the application XQuartz\n",
    "- In the terminal : sumo -c xx.sumocfg\n",
    "\n",
    "More info on properties of vehicles https://sumo.dlr.de/docs/Definition_of_Vehicles%2C_Vehicle_Types%2C_and_Routes.html#depart"
   ]
  },
  {
   "cell_type": "markdown",
   "id": "ddc205da-9251-4310-a1e0-ec9a3d987384",
   "metadata": {},
   "source": [
    "**Load data**"
   ]
  },
  {
   "cell_type": "code",
   "execution_count": 139,
   "id": "07f7b8c3-3196-4a38-8432-4aef7de5ca8e",
   "metadata": {},
   "outputs": [
    {
     "data": {
      "text/html": [
       "<div>\n",
       "<style scoped>\n",
       "    .dataframe tbody tr th:only-of-type {\n",
       "        vertical-align: middle;\n",
       "    }\n",
       "\n",
       "    .dataframe tbody tr th {\n",
       "        vertical-align: top;\n",
       "    }\n",
       "\n",
       "    .dataframe thead th {\n",
       "        text-align: right;\n",
       "    }\n",
       "</style>\n",
       "<table border=\"1\" class=\"dataframe\">\n",
       "  <thead>\n",
       "    <tr style=\"text-align: right;\">\n",
       "      <th></th>\n",
       "      <th>depart</th>\n",
       "      <th>route</th>\n",
       "      <th>departSpeed</th>\n",
       "      <th>length</th>\n",
       "      <th>type</th>\n",
       "    </tr>\n",
       "  </thead>\n",
       "  <tbody>\n",
       "    <tr>\n",
       "      <th>0</th>\n",
       "      <td>2000-01-04 00:05:57</td>\n",
       "      <td>1</td>\n",
       "      <td>101</td>\n",
       "      <td>835</td>\n",
       "      <td>11</td>\n",
       "    </tr>\n",
       "    <tr>\n",
       "      <th>1</th>\n",
       "      <td>2000-01-04 00:28:24</td>\n",
       "      <td>1</td>\n",
       "      <td>83</td>\n",
       "      <td>640</td>\n",
       "      <td>11</td>\n",
       "    </tr>\n",
       "    <tr>\n",
       "      <th>2</th>\n",
       "      <td>2000-01-04 00:34:57</td>\n",
       "      <td>1</td>\n",
       "      <td>84</td>\n",
       "      <td>750</td>\n",
       "      <td>11</td>\n",
       "    </tr>\n",
       "    <tr>\n",
       "      <th>3</th>\n",
       "      <td>2000-01-04 01:14:14</td>\n",
       "      <td>1</td>\n",
       "      <td>89</td>\n",
       "      <td>832</td>\n",
       "      <td>11</td>\n",
       "    </tr>\n",
       "    <tr>\n",
       "      <th>4</th>\n",
       "      <td>2000-01-04 02:25:26</td>\n",
       "      <td>1</td>\n",
       "      <td>104</td>\n",
       "      <td>950</td>\n",
       "      <td>12</td>\n",
       "    </tr>\n",
       "  </tbody>\n",
       "</table>\n",
       "</div>"
      ],
      "text/plain": [
       "               depart  route  departSpeed  length  type\n",
       "0 2000-01-04 00:05:57      1          101     835    11\n",
       "1 2000-01-04 00:28:24      1           83     640    11\n",
       "2 2000-01-04 00:34:57      1           84     750    11\n",
       "3 2000-01-04 01:14:14      1           89     832    11\n",
       "4 2000-01-04 02:25:26      1          104     950    12"
      ]
     },
     "execution_count": 139,
     "metadata": {},
     "output_type": "execute_result"
    }
   ],
   "source": [
    "DATA_PATH = \"../data/extract.txt\"\n",
    "\n",
    "cols_map = {\n",
    "    \"DTS\": \"depart\",\n",
    "    \"LANE\": \"route\",\n",
    "    \"SPD\": \"departSpeed\",\n",
    "    \"TYPE\": \"type\",\n",
    "    \"LENTH\": \"length\"\n",
    "}\n",
    "\n",
    "columns = list(cols_map.values())\n",
    "\n",
    "df = pd.read_csv(DATA_PATH, usecols=cols_map.keys())\n",
    "df.rename(columns=cols_map, inplace=True)\n",
    "df.depart = pd.to_datetime(df.depart, format=\"%Y%m%dT%H%M%S\")\n",
    "\n",
    "df.head()"
   ]
  },
  {
   "cell_type": "markdown",
   "id": "f3654ddb-01df-44a5-a2db-63350e20d55d",
   "metadata": {},
   "source": [
    "**Faire moyenne des longueurs de chaque type de voiture pour simplifier le truc**"
   ]
  },
  {
   "cell_type": "code",
   "execution_count": 140,
   "id": "fee626b9-2b1b-4150-b5d7-3f2f4b3678dd",
   "metadata": {},
   "outputs": [],
   "source": [
    "#Convert type to string value for xml file\n",
    "df['type'] = df['type'].astype(str)\n",
    "means = []\n",
    "types = df['type'].unique()\n",
    "\n",
    "#Find means length of every type of vehicule\n",
    "for val in types:\n",
    "    means.append(df.loc[df['type'] == val]['length'].mean())\n",
    "\n",
    "means = [str(x) for x in means]\n",
    "routes = []\n",
    "\n",
    "#Create dictionary with every vType\n",
    "for i in range(len(means)):\n",
    "    routes.append({'vType': {\"id\": types[i], \"length\": means[i]}})"
   ]
  },
  {
   "cell_type": "markdown",
   "id": "59764fc3-fb96-422c-a3b0-250675760c29",
   "metadata": {},
   "source": [
    "**Now we have to add every vehicules at each time**"
   ]
  },
  {
   "cell_type": "code",
   "execution_count": 141,
   "id": "37f7e5cd-653a-46d4-b074-7fda8775772e",
   "metadata": {},
   "outputs": [],
   "source": [
    "#the first car departs at t = 0\n",
    "departs = [0]\n",
    "for i in range(len(df)-1):\n",
    "    t1 = df['depart'][i].timestamp()\n",
    "    t2 = df['depart'][i+1].timestamp()\n",
    "    delay = t2-t1\n",
    "    departs.append(departs[i] + delay)\n",
    "    \n",
    "departs = [str(x) for x in departs]\n",
    "\n",
    "for i in range(len(df)):\n",
    "    routes.append({'vehicle': {\"depart\": departs[i], \"type\": df.iloc[i]['type'], \"id\": str(i), \"route\": \"route0\"}})"
   ]
  },
  {
   "cell_type": "markdown",
   "id": "5096a000-4c8c-4908-9b2e-eb9fa9560238",
   "metadata": {},
   "source": [
    "**Create test.rou.xml file**"
   ]
  },
  {
   "cell_type": "code",
   "execution_count": 149,
   "id": "2d1db5a0-1021-47b7-b747-657d887db0d4",
   "metadata": {},
   "outputs": [],
   "source": [
    "routes_file = minidom.Document()\n",
    "  \n",
    "xml = routes_file.createElement('routes') \n",
    "routes_file.appendChild(xml)\n",
    "  \n",
    "route = routes_file.createElement('route')\n",
    "route.setAttribute('id', 'route0')\n",
    "route.setAttribute('edges', '1to2 out')\n",
    "\n",
    "xml.appendChild(route)\n",
    "\n",
    "for i in range(len(routes)):\n",
    "    if 'vType' in routes[i]:\n",
    "        key = 'vType'\n",
    "        vType = routes_file.createElement(key)\n",
    "        vType.setAttribute('id', routes[i][key]['id'])\n",
    "        vType.setAttribute('length', routes[i][key]['length'])\n",
    "        xml.appendChild(vType)\n",
    "    else:\n",
    "        key = 'vehicle'\n",
    "        vehicle = routes_file.createElement(key)\n",
    "        vehicle.setAttribute('depart', routes[i][key]['depart'])\n",
    "        vehicle.setAttribute('type', routes[i][key]['type'])\n",
    "        vehicle.setAttribute('id', routes[i][key]['id'])\n",
    "        vehicle.setAttribute('route', 'route0')\n",
    "        xml.appendChild(vehicle)\n",
    "\n",
    "xml_str = routes_file.toprettyxml(indent =\"\\t\") \n",
    "  \n",
    "save_path_file = \"test.rou.xml\"\n",
    "  \n",
    "with open(save_path_file, \"w\") as f:\n",
    "    f.write(xml_str) "
   ]
  },
  {
   "cell_type": "code",
   "execution_count": null,
   "id": "fe09abb0-dafc-4c8c-ac25-7004f6709fe0",
   "metadata": {},
   "outputs": [],
   "source": []
  }
 ],
 "metadata": {
  "kernelspec": {
   "display_name": "Python 3 (ipykernel)",
   "language": "python",
   "name": "python3"
  },
  "language_info": {
   "codemirror_mode": {
    "name": "ipython",
    "version": 3
   },
   "file_extension": ".py",
   "mimetype": "text/x-python",
   "name": "python",
   "nbconvert_exporter": "python",
   "pygments_lexer": "ipython3",
   "version": "3.9.7"
  }
 },
 "nbformat": 4,
 "nbformat_minor": 5
}
