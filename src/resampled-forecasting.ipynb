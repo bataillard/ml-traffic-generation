{
 "cells": [
  {
   "cell_type": "markdown",
   "id": "d19c5034",
   "metadata": {},
   "source": [
    "# Downsampling data to perform aggregate predictions"
   ]
  },
  {
   "cell_type": "code",
   "execution_count": 1,
   "id": "12ea0c56",
   "metadata": {},
   "outputs": [],
   "source": [
    "import os\n",
    "import datetime\n",
    "\n",
    "import IPython\n",
    "import IPython.display\n",
    "import matplotlib as mpl\n",
    "import matplotlib.pyplot as plt\n",
    "import numpy as np\n",
    "import pandas as pd\n",
    "import seaborn as sns\n",
    "import tensorflow as tf\n",
    "\n",
    "mpl.rcParams['figure.figsize'] = (8, 6)\n",
    "mpl.rcParams['axes.grid'] = False"
   ]
  },
  {
   "cell_type": "code",
   "execution_count": 2,
   "id": "cb01f8c6",
   "metadata": {},
   "outputs": [],
   "source": [
    "from script import *"
   ]
  },
  {
   "cell_type": "markdown",
   "id": "f7a38e72",
   "metadata": {},
   "source": [
    "### Load data"
   ]
  },
  {
   "cell_type": "code",
   "execution_count": 3,
   "id": "6fbb6c73",
   "metadata": {},
   "outputs": [
    {
     "data": {
      "text/html": [
       "<div>\n",
       "<style scoped>\n",
       "    .dataframe tbody tr th:only-of-type {\n",
       "        vertical-align: middle;\n",
       "    }\n",
       "\n",
       "    .dataframe tbody tr th {\n",
       "        vertical-align: top;\n",
       "    }\n",
       "\n",
       "    .dataframe thead th {\n",
       "        text-align: right;\n",
       "    }\n",
       "</style>\n",
       "<table border=\"1\" class=\"dataframe\">\n",
       "  <thead>\n",
       "    <tr style=\"text-align: right;\">\n",
       "      <th></th>\n",
       "      <th>crossTime</th>\n",
       "      <th>speed</th>\n",
       "      <th>weight</th>\n",
       "    </tr>\n",
       "  </thead>\n",
       "  <tbody>\n",
       "    <tr>\n",
       "      <th>0</th>\n",
       "      <td>2011-04-01 00:41:31.400</td>\n",
       "      <td>106</td>\n",
       "      <td>15980</td>\n",
       "    </tr>\n",
       "    <tr>\n",
       "      <th>1</th>\n",
       "      <td>2011-04-01 00:42:10.500</td>\n",
       "      <td>116</td>\n",
       "      <td>3630</td>\n",
       "    </tr>\n",
       "  </tbody>\n",
       "</table>\n",
       "</div>"
      ],
      "text/plain": [
       "                crossTime  speed  weight\n",
       "0 2011-04-01 00:41:31.400    106   15980\n",
       "1 2011-04-01 00:42:10.500    116    3630"
      ]
     },
     "execution_count": 3,
     "metadata": {},
     "output_type": "execute_result"
    }
   ],
   "source": [
    "DATA_PATH = '../data/405.txt'\n",
    "\n",
    "cols_map = {\n",
    "    \"DTS\": \"crossTime\",\n",
    "    #\"LANE\": \"lane\",\n",
    "    #\"DIR\": \"direction\",\n",
    "    \"SPEED\": \"speed\",\n",
    "    # \"AX\": \"nAxles\",\n",
    "    \"GW_TOT\": \"weight\",\n",
    "    # \"TYPE\": \"type\",\n",
    "}\n",
    "\n",
    "data = pd.read_csv(DATA_PATH, usecols=cols_map.keys())\n",
    "data.rename(columns=cols_map, inplace=True)\n",
    "# Parse crossTime column as datetime object\n",
    "data.crossTime = pd.to_datetime(data.crossTime+'0000', format=\"%Y-%m-%d %H:%M:%S.%f\")\n",
    "data.head(2)"
   ]
  },
  {
   "cell_type": "code",
   "execution_count": 4,
   "id": "9f62e3e3",
   "metadata": {},
   "outputs": [
    {
     "data": {
      "text/html": [
       "<div>\n",
       "<style scoped>\n",
       "    .dataframe tbody tr th:only-of-type {\n",
       "        vertical-align: middle;\n",
       "    }\n",
       "\n",
       "    .dataframe tbody tr th {\n",
       "        vertical-align: top;\n",
       "    }\n",
       "\n",
       "    .dataframe thead th {\n",
       "        text-align: right;\n",
       "    }\n",
       "</style>\n",
       "<table border=\"1\" class=\"dataframe\">\n",
       "  <thead>\n",
       "    <tr style=\"text-align: right;\">\n",
       "      <th></th>\n",
       "      <th>speed</th>\n",
       "      <th>weight</th>\n",
       "    </tr>\n",
       "    <tr>\n",
       "      <th>crossTime</th>\n",
       "      <th></th>\n",
       "      <th></th>\n",
       "    </tr>\n",
       "  </thead>\n",
       "  <tbody>\n",
       "    <tr>\n",
       "      <th>2011-04-01 00:00:00</th>\n",
       "      <td>306</td>\n",
       "      <td>38090</td>\n",
       "    </tr>\n",
       "    <tr>\n",
       "      <th>2011-04-01 01:00:00</th>\n",
       "      <td>540</td>\n",
       "      <td>107870</td>\n",
       "    </tr>\n",
       "    <tr>\n",
       "      <th>2011-04-01 02:00:00</th>\n",
       "      <td>258</td>\n",
       "      <td>69670</td>\n",
       "    </tr>\n",
       "    <tr>\n",
       "      <th>2011-04-01 03:00:00</th>\n",
       "      <td>350</td>\n",
       "      <td>43060</td>\n",
       "    </tr>\n",
       "    <tr>\n",
       "      <th>2011-04-01 04:00:00</th>\n",
       "      <td>1211</td>\n",
       "      <td>290270</td>\n",
       "    </tr>\n",
       "  </tbody>\n",
       "</table>\n",
       "</div>"
      ],
      "text/plain": [
       "                     speed  weight\n",
       "crossTime                         \n",
       "2011-04-01 00:00:00    306   38090\n",
       "2011-04-01 01:00:00    540  107870\n",
       "2011-04-01 02:00:00    258   69670\n",
       "2011-04-01 03:00:00    350   43060\n",
       "2011-04-01 04:00:00   1211  290270"
      ]
     },
     "execution_count": 4,
     "metadata": {},
     "output_type": "execute_result"
    }
   ],
   "source": [
    "feature_cols = [col for col in data.columns if col != 'crossTime']\n",
    "features = data[feature_cols]\n",
    "features.index = data.crossTime\n",
    "# Downsample\n",
    "features = features.resample('1h').sum()\n",
    "features.head(5)"
   ]
  },
  {
   "cell_type": "markdown",
   "id": "b48e4457",
   "metadata": {},
   "source": [
    "### Feature engineering"
   ]
  },
  {
   "cell_type": "markdown",
   "id": "0e3f17d8",
   "metadata": {},
   "source": [
    "#### is_legal feature"
   ]
  },
  {
   "cell_type": "code",
   "execution_count": 5,
   "id": "8f44f44e",
   "metadata": {},
   "outputs": [],
   "source": [
    "# TODO"
   ]
  },
  {
   "cell_type": "markdown",
   "id": "b0eca9d8",
   "metadata": {},
   "source": [
    "#### Time periodicity features\n",
    "Datetime column `crossTime` not useful in its string form. We extract time of day, time of the week, and/or time of the year information to analyse periodicity. In order to deal with periodicity, we use sine and cosine transforms to get usable signals."
   ]
  },
  {
   "cell_type": "code",
   "execution_count": 6,
   "id": "5e640f46",
   "metadata": {},
   "outputs": [],
   "source": [
    "# Transform to seconds\n",
    "timestamp_s = features.index.map(pd.Timestamp.timestamp)\n",
    "\n",
    "# Corresponding length in seconds for day, week, year\n",
    "minute_s = 60\n",
    "hour_s = minute_s * 60\n",
    "day_s = 24 * hour_s # 24h x 60m x 60s\n",
    "week_s = 7 * day_s\n",
    "year_s = 365.2425 * day_s"
   ]
  },
  {
   "cell_type": "code",
   "execution_count": 7,
   "id": "aa54a953",
   "metadata": {},
   "outputs": [],
   "source": [
    "# Add sin/cos periodicity columns to features dataframe\n",
    "def add_time_period_cols(time_length, time_string):\n",
    "    features[time_string + '_sin'] = np.sin(timestamp_s * (2 * np.pi / time_length))\n",
    "    features[time_string + '_cos'] = np.cos(timestamp_s * (2 * np.pi / time_length))\n",
    "    \n",
    "add_time_period_cols(day_s, 'day')\n",
    "add_time_period_cols(week_s, 'week')\n",
    "add_time_period_cols(year_s, 'year')"
   ]
  },
  {
   "cell_type": "code",
   "execution_count": 8,
   "id": "1fbb600d",
   "metadata": {},
   "outputs": [
    {
     "data": {
      "text/html": [
       "<div>\n",
       "<style scoped>\n",
       "    .dataframe tbody tr th:only-of-type {\n",
       "        vertical-align: middle;\n",
       "    }\n",
       "\n",
       "    .dataframe tbody tr th {\n",
       "        vertical-align: top;\n",
       "    }\n",
       "\n",
       "    .dataframe thead th {\n",
       "        text-align: right;\n",
       "    }\n",
       "</style>\n",
       "<table border=\"1\" class=\"dataframe\">\n",
       "  <thead>\n",
       "    <tr style=\"text-align: right;\">\n",
       "      <th></th>\n",
       "      <th>speed</th>\n",
       "      <th>weight</th>\n",
       "      <th>day_sin</th>\n",
       "      <th>day_cos</th>\n",
       "      <th>week_sin</th>\n",
       "      <th>week_cos</th>\n",
       "      <th>year_sin</th>\n",
       "      <th>year_cos</th>\n",
       "    </tr>\n",
       "    <tr>\n",
       "      <th>crossTime</th>\n",
       "      <th></th>\n",
       "      <th></th>\n",
       "      <th></th>\n",
       "      <th></th>\n",
       "      <th></th>\n",
       "      <th></th>\n",
       "      <th></th>\n",
       "      <th></th>\n",
       "    </tr>\n",
       "  </thead>\n",
       "  <tbody>\n",
       "    <tr>\n",
       "      <th>2011-04-01 00:00:00</th>\n",
       "      <td>306</td>\n",
       "      <td>38090</td>\n",
       "      <td>1.461574e-12</td>\n",
       "      <td>1.000000</td>\n",
       "      <td>0.781831</td>\n",
       "      <td>0.62349</td>\n",
       "      <td>0.999768</td>\n",
       "      <td>0.021556</td>\n",
       "    </tr>\n",
       "    <tr>\n",
       "      <th>2011-04-01 01:00:00</th>\n",
       "      <td>540</td>\n",
       "      <td>107870</td>\n",
       "      <td>2.588190e-01</td>\n",
       "      <td>0.965926</td>\n",
       "      <td>0.804598</td>\n",
       "      <td>0.59382</td>\n",
       "      <td>0.999783</td>\n",
       "      <td>0.020839</td>\n",
       "    </tr>\n",
       "  </tbody>\n",
       "</table>\n",
       "</div>"
      ],
      "text/plain": [
       "                     speed  weight       day_sin   day_cos  week_sin  \\\n",
       "crossTime                                                              \n",
       "2011-04-01 00:00:00    306   38090  1.461574e-12  1.000000  0.781831   \n",
       "2011-04-01 01:00:00    540  107870  2.588190e-01  0.965926  0.804598   \n",
       "\n",
       "                     week_cos  year_sin  year_cos  \n",
       "crossTime                                          \n",
       "2011-04-01 00:00:00   0.62349  0.999768  0.021556  \n",
       "2011-04-01 01:00:00   0.59382  0.999783  0.020839  "
      ]
     },
     "execution_count": 8,
     "metadata": {},
     "output_type": "execute_result"
    }
   ],
   "source": [
    "features.head(2)"
   ]
  },
  {
   "cell_type": "code",
   "execution_count": 9,
   "id": "3539befe",
   "metadata": {},
   "outputs": [
    {
     "data": {
      "text/plain": [
       "Text(0.5, 1.0, 'Year period signals')"
      ]
     },
     "execution_count": 9,
     "metadata": {},
     "output_type": "execute_result"
    },
    {
     "data": {
      "image/png": "[encoded data removed]",
      "text/plain": [
       "<Figure size 576x432 with 1 Axes>"
      ]
     },
     "metadata": {
      "needs_background": "light"
     },
     "output_type": "display_data"
    }
   ],
   "source": [
    "plt.scatter(y=np.array(features['year_sin']), x=features.index)\n",
    "plt.scatter(y=np.array(features['year_cos']), x=features.index)\n",
    "plt.xlabel('Time')\n",
    "plt.title('Year period signals')"
   ]
  },
  {
   "cell_type": "markdown",
   "id": "63bec25d",
   "metadata": {},
   "source": [
    "### Split and normalize data"
   ]
  },
  {
   "cell_type": "code",
   "execution_count": 10,
   "id": "1f96d7d5",
   "metadata": {},
   "outputs": [],
   "source": [
    "train, val, test = split_norm_data(features)"
   ]
  },
  {
   "cell_type": "markdown",
   "id": "92860822",
   "metadata": {},
   "source": [
    "### Predicting single feature (weight)\n"
   ]
  },
  {
   "cell_type": "code",
   "execution_count": 11,
   "id": "13342fda",
   "metadata": {},
   "outputs": [
    {
     "data": {
      "text/plain": [
       "Total window size: 25\n",
       "Input indices: [ 0  1  2  3  4  5  6  7  8  9 10 11 12 13 14 15 16 17 18 19 20 21 22 23]\n",
       "Label indices: [24]\n",
       "Label column name(s): ['weight']"
      ]
     },
     "execution_count": 11,
     "metadata": {},
     "output_type": "execute_result"
    }
   ],
   "source": [
    "# Define window\n",
    "day_window = WindowGenerator(input_width=24, label_width=1, shift=1, label_columns=['weight'],\n",
    "                            train_df=train, val_df=val, test_df=test)\n",
    "day_window"
   ]
  },
  {
   "cell_type": "code",
   "execution_count": 13,
   "id": "f511b1bb",
   "metadata": {},
   "outputs": [],
   "source": [
    "def example_window(window):\n",
    "    return tf.stack([np.array(train[:window.total_window_size]),\n",
    "                           np.array(train[1000:1000+window.total_window_size]),\n",
    "                           np.array(train[2000:2000+window.total_window_size])])"
   ]
  },
  {
   "cell_type": "code",
   "execution_count": 14,
   "id": "6e7737c4",
   "metadata": {},
   "outputs": [],
   "source": [
    "ex_window = example_window(day_window)\n",
    "ex_inputs, ex_labels = day_window.split_window(ex_window)"
   ]
  },
  {
   "cell_type": "code",
   "execution_count": 15,
   "id": "e567b6be",
   "metadata": {},
   "outputs": [],
   "source": [
    "day_window.set_example(ex_inputs, ex_labels)"
   ]
  },
  {
   "cell_type": "markdown",
   "id": "f85f3a96",
   "metadata": {},
   "source": [
    "### Predicting all features"
   ]
  },
  {
   "cell_type": "code",
   "execution_count": null,
   "id": "60b5e3a8",
   "metadata": {},
   "outputs": [],
   "source": []
  }
 ],
 "metadata": {
  "kernelspec": {
   "display_name": "Python [conda env:ada] *",
   "language": "python",
   "name": "conda-env-ada-py"
  },
  "language_info": {
   "codemirror_mode": {
    "name": "ipython",
    "version": 3
   },
   "file_extension": ".py",
   "mimetype": "text/x-python",
   "name": "python",
   "nbconvert_exporter": "python",
   "pygments_lexer": "ipython3",
   "version": "3.8.12"
  }
 },
 "nbformat": 4,
 "nbformat_minor": 5
}
