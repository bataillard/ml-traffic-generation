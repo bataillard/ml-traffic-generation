{
 "cells": [
  {
   "cell_type": "markdown",
   "metadata": {},
   "source": [
    "#### Useful imports"
   ]
  },
  {
   "cell_type": "code",
   "execution_count": 1,
   "metadata": {},
   "outputs": [],
   "source": [
    "import os\n",
    "import datetime\n",
    "\n",
    "import IPython\n",
    "import IPython.display\n",
    "import matplotlib as mpl\n",
    "import matplotlib.pyplot as plt\n",
    "import numpy as np\n",
    "import pandas as pd\n",
    "import seaborn as sns\n",
    "import tensorflow as tf\n",
    "\n",
    "mpl.rcParams['figure.figsize'] = (8, 6)\n",
    "mpl.rcParams['axes.grid'] = False\n",
    "\n",
    "from script import *\n",
    "%load_ext autoreload\n",
    "%autoreload 2"
   ]
  },
  {
   "cell_type": "markdown",
   "metadata": {},
   "source": [
    "#### Load data"
   ]
  },
  {
   "cell_type": "code",
   "execution_count": 2,
   "metadata": {},
   "outputs": [
    {
     "data": {
      "text/html": [
       "<div>\n",
       "<style scoped>\n",
       "    .dataframe tbody tr th:only-of-type {\n",
       "        vertical-align: middle;\n",
       "    }\n",
       "\n",
       "    .dataframe tbody tr th {\n",
       "        vertical-align: top;\n",
       "    }\n",
       "\n",
       "    .dataframe thead th {\n",
       "        text-align: right;\n",
       "    }\n",
       "</style>\n",
       "<table border=\"1\" class=\"dataframe\">\n",
       "  <thead>\n",
       "    <tr style=\"text-align: right;\">\n",
       "      <th></th>\n",
       "      <th>crossTime</th>\n",
       "      <th>speed</th>\n",
       "      <th>weight</th>\n",
       "    </tr>\n",
       "  </thead>\n",
       "  <tbody>\n",
       "    <tr>\n",
       "      <th>0</th>\n",
       "      <td>2011-04-01 00:41:31.400</td>\n",
       "      <td>106</td>\n",
       "      <td>15980</td>\n",
       "    </tr>\n",
       "    <tr>\n",
       "      <th>1</th>\n",
       "      <td>2011-04-01 00:42:10.500</td>\n",
       "      <td>116</td>\n",
       "      <td>3630</td>\n",
       "    </tr>\n",
       "  </tbody>\n",
       "</table>\n",
       "</div>"
      ],
      "text/plain": [
       "                crossTime  speed  weight\n",
       "0 2011-04-01 00:41:31.400    106   15980\n",
       "1 2011-04-01 00:42:10.500    116    3630"
      ]
     },
     "execution_count": 2,
     "metadata": {},
     "output_type": "execute_result"
    }
   ],
   "source": [
    "DATA_PATH = '../data/405.txt'\n",
    "\n",
    "cols_map = {\n",
    "    \"DTS\": \"crossTime\",\n",
    "    #\"LANE\": \"lane\",\n",
    "    #\"DIR\": \"direction\",\n",
    "    \"SPEED\": \"speed\",\n",
    "    # \"AX\": \"nAxles\",\n",
    "    \"GW_TOT\": \"weight\",\n",
    "    # \"TYPE\": \"type\",\n",
    "}\n",
    "\n",
    "data = pd.read_csv(DATA_PATH, usecols=cols_map.keys())\n",
    "data.rename(columns=cols_map, inplace=True)\n",
    "# Parse crossTime column as datetime object\n",
    "data.crossTime = pd.to_datetime(data.crossTime+'0000', format='%Y-%m-%d %H:%M:%S.%f')\n",
    "data.head(2)"
   ]
  },
  {
   "cell_type": "markdown",
   "metadata": {},
   "source": [
    "#### Create index and select feature columns"
   ]
  },
  {
   "cell_type": "code",
   "execution_count": 3,
   "metadata": {},
   "outputs": [
    {
     "data": {
      "text/plain": [
       "False"
      ]
     },
     "execution_count": 3,
     "metadata": {},
     "output_type": "execute_result"
    }
   ],
   "source": [
    "data.crossTime.is_unique"
   ]
  },
  {
   "cell_type": "code",
   "execution_count": 4,
   "metadata": {},
   "outputs": [
    {
     "data": {
      "text/html": [
       "<div>\n",
       "<style scoped>\n",
       "    .dataframe tbody tr th:only-of-type {\n",
       "        vertical-align: middle;\n",
       "    }\n",
       "\n",
       "    .dataframe tbody tr th {\n",
       "        vertical-align: top;\n",
       "    }\n",
       "\n",
       "    .dataframe thead th {\n",
       "        text-align: right;\n",
       "    }\n",
       "</style>\n",
       "<table border=\"1\" class=\"dataframe\">\n",
       "  <thead>\n",
       "    <tr style=\"text-align: right;\">\n",
       "      <th></th>\n",
       "      <th>crossTime</th>\n",
       "      <th>speed</th>\n",
       "      <th>weight</th>\n",
       "    </tr>\n",
       "  </thead>\n",
       "  <tbody>\n",
       "    <tr>\n",
       "      <th>1027596</th>\n",
       "      <td>2013-01-11 16:27:18.500</td>\n",
       "      <td>88</td>\n",
       "      <td>8260</td>\n",
       "    </tr>\n",
       "    <tr>\n",
       "      <th>1246476</th>\n",
       "      <td>2013-06-18 18:36:40.600</td>\n",
       "      <td>86</td>\n",
       "      <td>11190</td>\n",
       "    </tr>\n",
       "    <tr>\n",
       "      <th>1670099</th>\n",
       "      <td>2015-07-27 12:41:01.600</td>\n",
       "      <td>89</td>\n",
       "      <td>3530</td>\n",
       "    </tr>\n",
       "    <tr>\n",
       "      <th>1751529</th>\n",
       "      <td>2015-09-15 14:22:54.900</td>\n",
       "      <td>81</td>\n",
       "      <td>5470</td>\n",
       "    </tr>\n",
       "    <tr>\n",
       "      <th>2246137</th>\n",
       "      <td>2016-07-22 12:58:58.200</td>\n",
       "      <td>25</td>\n",
       "      <td>3590</td>\n",
       "    </tr>\n",
       "    <tr>\n",
       "      <th>2710589</th>\n",
       "      <td>2017-06-23 18:05:58.100</td>\n",
       "      <td>90</td>\n",
       "      <td>3580</td>\n",
       "    </tr>\n",
       "    <tr>\n",
       "      <th>3355905</th>\n",
       "      <td>2018-07-17 08:53:27.400</td>\n",
       "      <td>90</td>\n",
       "      <td>16470</td>\n",
       "    </tr>\n",
       "  </tbody>\n",
       "</table>\n",
       "</div>"
      ],
      "text/plain": [
       "                      crossTime  speed  weight\n",
       "1027596 2013-01-11 16:27:18.500     88    8260\n",
       "1246476 2013-06-18 18:36:40.600     86   11190\n",
       "1670099 2015-07-27 12:41:01.600     89    3530\n",
       "1751529 2015-09-15 14:22:54.900     81    5470\n",
       "2246137 2016-07-22 12:58:58.200     25    3590\n",
       "2710589 2017-06-23 18:05:58.100     90    3580\n",
       "3355905 2018-07-17 08:53:27.400     90   16470"
      ]
     },
     "execution_count": 4,
     "metadata": {},
     "output_type": "execute_result"
    }
   ],
   "source": [
    "duplicates = data[data.duplicated()]\n",
    "duplicates"
   ]
  },
  {
   "cell_type": "code",
   "execution_count": 5,
   "metadata": {},
   "outputs": [
    {
     "data": {
      "text/html": [
       "<div>\n",
       "<style scoped>\n",
       "    .dataframe tbody tr th:only-of-type {\n",
       "        vertical-align: middle;\n",
       "    }\n",
       "\n",
       "    .dataframe tbody tr th {\n",
       "        vertical-align: top;\n",
       "    }\n",
       "\n",
       "    .dataframe thead th {\n",
       "        text-align: right;\n",
       "    }\n",
       "</style>\n",
       "<table border=\"1\" class=\"dataframe\">\n",
       "  <thead>\n",
       "    <tr style=\"text-align: right;\">\n",
       "      <th></th>\n",
       "      <th>crossTime</th>\n",
       "      <th>speed</th>\n",
       "      <th>weight</th>\n",
       "    </tr>\n",
       "  </thead>\n",
       "  <tbody>\n",
       "    <tr>\n",
       "      <th>1670098</th>\n",
       "      <td>2015-07-27 12:41:01.600</td>\n",
       "      <td>89</td>\n",
       "      <td>3530</td>\n",
       "    </tr>\n",
       "    <tr>\n",
       "      <th>1670099</th>\n",
       "      <td>2015-07-27 12:41:01.600</td>\n",
       "      <td>89</td>\n",
       "      <td>3530</td>\n",
       "    </tr>\n",
       "  </tbody>\n",
       "</table>\n",
       "</div>"
      ],
      "text/plain": [
       "                      crossTime  speed  weight\n",
       "1670098 2015-07-27 12:41:01.600     89    3530\n",
       "1670099 2015-07-27 12:41:01.600     89    3530"
      ]
     },
     "execution_count": 5,
     "metadata": {},
     "output_type": "execute_result"
    }
   ],
   "source": [
    "data[data.crossTime == '2015-07-27 12:41:01.600']"
   ]
  },
  {
   "cell_type": "markdown",
   "metadata": {},
   "source": [
    "**Note**: Remove duplicates after loading the data"
   ]
  },
  {
   "cell_type": "code",
   "execution_count": 6,
   "metadata": {},
   "outputs": [],
   "source": [
    "feature_cols = [col for col in data.columns if col != 'crossTime']\n",
    "features = data[feature_cols]\n",
    "features.index = data.crossTime"
   ]
  },
  {
   "cell_type": "markdown",
   "metadata": {},
   "source": [
    "#### Downsample"
   ]
  },
  {
   "cell_type": "code",
   "execution_count": 7,
   "metadata": {},
   "outputs": [
    {
     "name": "stdout",
     "output_type": "stream",
     "text": [
      "True\n"
     ]
    },
    {
     "data": {
      "text/html": [
       "<div>\n",
       "<style scoped>\n",
       "    .dataframe tbody tr th:only-of-type {\n",
       "        vertical-align: middle;\n",
       "    }\n",
       "\n",
       "    .dataframe tbody tr th {\n",
       "        vertical-align: top;\n",
       "    }\n",
       "\n",
       "    .dataframe thead th {\n",
       "        text-align: right;\n",
       "    }\n",
       "</style>\n",
       "<table border=\"1\" class=\"dataframe\">\n",
       "  <thead>\n",
       "    <tr style=\"text-align: right;\">\n",
       "      <th></th>\n",
       "      <th>speed</th>\n",
       "      <th>weight</th>\n",
       "      <th>n_vehicles</th>\n",
       "    </tr>\n",
       "    <tr>\n",
       "      <th>crossTime</th>\n",
       "      <th></th>\n",
       "      <th></th>\n",
       "      <th></th>\n",
       "    </tr>\n",
       "  </thead>\n",
       "  <tbody>\n",
       "    <tr>\n",
       "      <th>2011-04-01 00:00:00</th>\n",
       "      <td>306</td>\n",
       "      <td>38090</td>\n",
       "      <td>3</td>\n",
       "    </tr>\n",
       "    <tr>\n",
       "      <th>2011-04-01 01:00:00</th>\n",
       "      <td>540</td>\n",
       "      <td>107870</td>\n",
       "      <td>6</td>\n",
       "    </tr>\n",
       "  </tbody>\n",
       "</table>\n",
       "</div>"
      ],
      "text/plain": [
       "                     speed  weight  n_vehicles\n",
       "crossTime                                     \n",
       "2011-04-01 00:00:00    306   38090           3\n",
       "2011-04-01 01:00:00    540  107870           6"
      ]
     },
     "execution_count": 7,
     "metadata": {},
     "output_type": "execute_result"
    }
   ],
   "source": [
    "sampling_intervals = ['1h', '30min', '10min', '2min']\n",
    "\n",
    "resampled = [features.resample(i) for i in sampling_intervals]\n",
    "features = [resample.sum() for resample in resampled]\n",
    "print(len(resampled) == len(features))\n",
    "for i in range(len(resampled)):\n",
    "    features[i]['n_vehicles'] = resampled[i].size()\n",
    "    \n",
    "features[0][:2]"
   ]
  },
  {
   "cell_type": "markdown",
   "metadata": {},
   "source": [
    "#### Feature engineering"
   ]
  },
  {
   "cell_type": "code",
   "execution_count": null,
   "metadata": {},
   "outputs": [],
   "source": [
    "# HGV movement restrictions\n",
    "legal_driving_start = 5\n",
    "legal_driving_end = 22\n",
    "legal_driving_duration = legal_driving_end - legal_driving_start\n",
    "sunday = 6\n",
    "\n",
    "dayofweek = [pd.Series(fs.index.dayofweek, index=fs.index) for fs in features]\n",
    "hours = [pd.Series(fs.index.hour, index=fs.index) for fs in features]\n",
    "shifted_hours = hours - legal_driving_start\n",
    "\n",
    "for i in range(len(features)):\n",
    "    features['is_legal'] = (((0 <= shifted_hours) & (shifted_hours < legal_driving_duration))).astype(int)\n",
    "    features.head(10)"
   ]
  },
  {
   "cell_type": "code",
   "execution_count": 9,
   "metadata": {},
   "outputs": [],
   "source": [
    "def pipeline(sampling_interval):\n",
    "    \n",
    "    feature_cols = [col for col in data.columns if col != 'crossTime']\n",
    "    features = data[feature_cols]\n",
    "    features.index = data.crossTime\n",
    "\n",
    "    # Downsample and add vehicle counts\n",
    "    resampled = features.resample(sampling_interval)\n",
    "    features = resampled.sum()\n",
    "    features['n_vehicles'] = resampled.size()\n",
    "    \n",
    "    ## FEATURE ENGINEERING\n",
    "    \n",
    "    # HGV movement restrictions #\n",
    "    legal_driving_start = 5\n",
    "    legal_driving_end = 22\n",
    "    legal_driving_duration = legal_driving_end - legal_driving_start\n",
    "    sunday = 6\n",
    "    \n",
    "    dayofweek = pd.Series(features.index.dayofweek, index=features.index)\n",
    "    hours = pd.Series(features.index.hour, index=features.index)\n",
    "    shifted_hours = hours - legal_driving_start\n",
    "    \n",
    "    features['is_legal'] = (((0 <= shifted_hours) & (shifted_hours < legal_driving_duration))).astype(int)\n",
    "    \n",
    "    # Time periodicity features #\n",
    "    # Transform to seconds\n",
    "    timestamp_s = features.index.map(pd.Timestamp.timestamp)\n",
    "\n",
    "    # Corresponding length in seconds for day, week, year\n",
    "    minute_s = 60\n",
    "    hour_s = minute_s * 60\n",
    "    day_s = 24 * hour_s # 24h x 60m x 60s\n",
    "    week_s = 7 * day_s\n",
    "    year_s = 365.2425 * day_s\n",
    "    \n",
    "    # Add sin/cos periodicity columns to features dataframe\n",
    "    def add_time_period_cols(time_length, time_string):\n",
    "        features[time_string + '_sin'] = np.sin(timestamp_s * (2 * np.pi / time_length))\n",
    "        features[time_string + '_cos'] = np.cos(timestamp_s * (2 * np.pi / time_length))\n",
    "\n",
    "    add_time_period_cols(day_s, 'day')\n",
    "    add_time_period_cols(week_s, 'week')\n",
    "    add_time_period_cols(year_s, 'year')\n",
    "    \n",
    "    return split_norm_data(features, return_mean_std=True)"
   ]
  },
  {
   "cell_type": "code",
   "execution_count": null,
   "metadata": {},
   "outputs": [],
   "source": [
    "train, val, test, train_mean, train_std = pipeline('1h')"
   ]
  },
  {
   "cell_type": "code",
   "execution_count": 10,
   "metadata": {},
   "outputs": [],
   "source": [
    "val_performance = {}\n",
    "performance = {}"
   ]
  },
  {
   "cell_type": "code",
   "execution_count": 11,
   "metadata": {},
   "outputs": [],
   "source": [
    "# List of tuples (interval, n_intervals that account for 1 hour)\n",
    "sampling_intervals = [('1h', 1), ('30min', 2), ('10min', 6), ('2min', 30)]"
   ]
  },
  {
   "cell_type": "code",
   "execution_count": 12,
   "metadata": {},
   "outputs": [],
   "source": [
    "rnn = lstm_model()"
   ]
  },
  {
   "cell_type": "code",
   "execution_count": 13,
   "metadata": {},
   "outputs": [
    {
     "name": "stdout",
     "output_type": "stream",
     "text": [
      "16425/16425 [==============================] - 123s 7ms/step - loss: 0.3610 - mean_absolute_error: 0.3701 - ETA: 0s - loss: 0.3610 - mean_absolute_erro\n"
     ]
    }
   ],
   "source": [
    "for i in range(len(sampling_intervals)):\n",
    "    interval, day_width = sampling_intervals[i]\n",
    "    print(f'Interval: {interval}')\n",
    "    DAY_W = 24 * day_width\n",
    "    train, val, test, _, _ = pipeline(interval)\n",
    "    # window = make_window(train, val, test, input_w=7*DAY_W, label_w=DAY_W)\n",
    "    w_window = wide_window(train, val, test)\n",
    "    \n",
    "    history = compile_and_fit(rnn, w_window)\n",
    "    IPython.display.clear_output()\n",
    "    val_performance[interval] = rnn.evaluate(w_window.val)\n",
    "    performance[interval] = rnn.evaluate(w_window.test, verbose=0)"
   ]
  },
  {
   "cell_type": "code",
   "execution_count": 14,
   "metadata": {},
   "outputs": [
    {
     "data": {
      "image/png": "[encoded data removed]",
      "text/plain": [
       "<Figure size 576x432 with 1 Axes>"
      ]
     },
     "metadata": {
      "needs_background": "light"
     },
     "output_type": "display_data"
    }
   ],
   "source": [
    "x = np.arange(len(performance))\n",
    "width = 0.3\n",
    "metric_name = 'mean_absolute_error'\n",
    "metric_index = rnn.metrics_names.index('mean_absolute_error')\n",
    "val_mae = [v[metric_index] for v in val_performance.values()]\n",
    "test_mae = [v[metric_index] for v in performance.values()]\n",
    "\n",
    "plt.ylabel('mean_absolute_error [n_vehicles, normalized]')\n",
    "plt.bar(x - 0.17, val_mae, width, label='Validation')\n",
    "plt.bar(x + 0.17, test_mae, width, label='Test')\n",
    "plt.xticks(ticks=x, labels=performance.keys(),\n",
    "           rotation=45)\n",
    "_ = plt.legend()"
   ]
  },
  {
   "cell_type": "code",
   "execution_count": 15,
   "metadata": {},
   "outputs": [],
   "source": [
    "train, val, test, _, _ = pipeline('1h')"
   ]
  },
  {
   "cell_type": "code",
   "execution_count": 21,
   "metadata": {},
   "outputs": [],
   "source": [
    "window = make_window(train, val, test, input_w=24, label_w=24)"
   ]
  },
  {
   "cell_type": "code",
   "execution_count": 24,
   "metadata": {},
   "outputs": [],
   "source": [
    "lstm = tf.keras.models.Sequential([\n",
    "    tf.keras.layers.LSTM(24, return_sequences=True),\n",
    "    tf.keras.layers.Dense(units=1)\n",
    "])"
   ]
  },
  {
   "cell_type": "code",
   "execution_count": 25,
   "metadata": {},
   "outputs": [
    {
     "name": "stdout",
     "output_type": "stream",
     "text": [
      "Epoch 1/20\n",
      "1916/1916 [==============================] - 56s 25ms/step - loss: 0.0577 - mean_absolute_error: 0.1432 - val_loss: 0.0481 - val_mean_absolute_error: 0.1307s: 0.0637 - mean_absolu - ETA: 7s - loss: 0.0629 - mean_absolute_error: 0.150 - ETA: 7s - loss: 0.0628 - mea - ETA: 5s - loss: 0\n",
      "Epoch 2/20\n",
      "1916/1916 [==============================] - 53s 28ms/step - loss: 0.0287 - mean_absolute_error: 0.1003 - val_loss: 0.0422 - val_mean_absolute_error: 0.1215ute_error: 0.1 - ETA: 7s - loss: 0.0291 - mean - ETA: 5s - loss: 0.0290 -\n",
      "Epoch 3/20\n",
      "1916/1916 [==============================] - 41s 21ms/step - loss: 0.0265 - mean_absolute_error: 0.0952 - val_loss: 0.0415 - val_mean_absolute_error: 0.1199 - loss: 0.0266 - \n",
      "Epoch 4/20\n",
      "1916/1916 [==============================] - 46s 24ms/step - loss: 0.0254 - mean_absolute_error: 0.0928 - val_loss: 0.0411 - val_mean_absolute_error: 0.1194solu - ETA: 9s - loss: 0.0256 - ETA: 7s - loss: 0.0256 - mean_absolut - ETA: 7 - ETA: 0s - loss: 0.0254 - mean_absolu\n",
      "Epoch 5/20\n",
      "1916/1916 [==============================] - 49s 26ms/step - loss: 0.0246 - mean_absolute_error: 0.0912 - val_loss: 0.0404 - val_mean_absolute_error: 0.1183\n",
      "Epoch 6/20\n",
      "1916/1916 [==============================] - 40s 21ms/step - loss: 0.0240 - mean_absolute_error: 0.0900 - val_loss: 0.0399 - val_mean_absolute_error: 0.11780243 - ETA: 8s - - ETA: 6s - loss: 0.0242 - mean_absolute_ - ETA: 6s - loss: 0.0242 - mean_absolu - ETA: 5s - loss: 0.0241 - mean_a - ETA: 4s - loss: 0.0241 -  - ETA: 3s - loss: 0.0241 - mean_absolute_error: - ETA: 2s - loss: 0.0240 - mean_absolute_error: 0 - ETA: 2s - \n",
      "Epoch 7/20\n",
      "1916/1916 [==============================] - 50s 26ms/step - loss: 0.0235 - mean_absolute_error: 0.0892 - val_loss: 0.0397 - val_mean_absolute_error: 0.1174\n",
      "Epoch 8/20\n",
      "1916/1916 [==============================] - 46s 24ms/step - loss: 0.0231 - mean_absolute_error: 0.0884 - val_loss: 0.0390 - val_mean_absolute_error: 0.1165 loss: 0.0231 - mean_absolute_error: 0.0 - ETA: 3s - loss: 0.0231 - mean_absolute_error: 0.0 - ETA: 3s - loss: 0.0231 - mean_absolute_er - ETA: 2s \n",
      "Epoch 9/20\n",
      "1916/1916 [==============================] - 38s 20ms/step - loss: 0.0227 - mean_absolute_error: 0.0877 - val_loss: 0.0387 - val_mean_absolute_error: 0.1160\n",
      "Epoch 10/20\n",
      "1916/1916 [==============================] - 38s 20ms/step - loss: 0.0224 - mean_absolute_error: 0.0872 - val_loss: 0.0395 - val_mean_absolute_error: 0.1168 - loss: 0.0224 - mean_absolute_erro\n",
      "Epoch 11/20\n",
      "1916/1916 [==============================] - 38s 20ms/step - loss: 0.0222 - mean_absolute_error: 0.0866 - val_loss: 0.0386 - val_mean_absolute_error: 0.1157te_error: - ETA: 0s - loss: 0.0222 - mean_absolute_error: 0.0\n",
      "Epoch 12/20\n",
      "1916/1916 [==============================] - 49s 25ms/step - loss: 0.0219 - mean_absolute_error: 0.0862 - val_loss: 0.0398 - val_mean_absolute_error: 0.1171\n",
      "Epoch 13/20\n",
      "1916/1916 [==============================] - 48s 25ms/step - loss: 0.0217 - mean_absolute_error: 0.0859 - val_loss: 0.0401 - val_mean_absolute_error: 0.1178\n"
     ]
    },
    {
     "data": {
      "text/plain": [
       "<keras.callbacks.History at 0x2dbabf8d790>"
      ]
     },
     "execution_count": 25,
     "metadata": {},
     "output_type": "execute_result"
    }
   ],
   "source": [
    "compile_and_fit(lstm, window)"
   ]
  },
  {
   "cell_type": "code",
   "execution_count": null,
   "metadata": {},
   "outputs": [],
   "source": []
  }
 ],
 "metadata": {
  "kernelspec": {
   "display_name": "Python [conda env:ada]",
   "language": "python",
   "name": "conda-env-ada-py"
  },
  "language_info": {
   "codemirror_mode": {
    "name": "ipython",
    "version": 3
   },
   "file_extension": ".py",
   "mimetype": "text/x-python",
   "name": "python",
   "nbconvert_exporter": "python",
   "pygments_lexer": "ipython3",
   "version": "3.8.12"
  }
 },
 "nbformat": 4,
 "nbformat_minor": 4
}
